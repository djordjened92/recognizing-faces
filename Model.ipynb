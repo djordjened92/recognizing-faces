{
 "cells": [
  {
   "cell_type": "code",
   "execution_count": null,
   "metadata": {
    "_cell_guid": "79c7e3d0-c299-4dcb-8224-4455121ee9b0",
    "_uuid": "d629ff2d2480ee46fbb7e2d37f6b5fab8052498a"
   },
   "outputs": [],
   "source": [
    "import os\n",
    "import pickle\n",
    "import keras\n",
    "import pandas as pd\n",
    "import numpy as np\n",
    "import tensorflow as tf\n",
    "\n",
    "from datetime import datetime\n",
    "from matplotlib import pyplot as plt\n",
    "from sklearn.metrics import precision_recall_fscore_support, accuracy_score\n",
    "from keras.optimizers import RMSprop, SGD, Adam\n",
    "from keras.regularizers import l2\n",
    "from keras import backend as K\n",
    "from keras.models import Model\n",
    "from keras.callbacks import Callback\n",
    "from keras.layers import Input, Flatten, Dense, Dropout, Lambda, Conv1D, Attention, GlobalAveragePooling1D\n",
    "\n",
    "np.random.seed(123)"
   ]
  },
  {
   "cell_type": "code",
   "execution_count": null,
   "metadata": {},
   "outputs": [],
   "source": [
    "gpus = tf.config.experimental.list_physical_devices('GPU')\n",
    "for gpu in gpus:\n",
    "  tf.config.experimental.set_memory_growth(gpu, True)"
   ]
  },
  {
   "cell_type": "markdown",
   "metadata": {},
   "source": [
    "# The input embeddings\n",
    "\n",
    "The data in the input pickle file is stored in a dictionary structure:\n",
    "```\n",
    "{\n",
    "    [\n",
    "        'FAMILY_ID/PERSON_ID': [EMB_1, EMB_2...EMB_N],\n",
    "        .\n",
    "        .\n",
    "        .\n",
    "    ]\n",
    "}\n",
    "```"
   ]
  },
  {
   "cell_type": "code",
   "execution_count": null,
   "metadata": {},
   "outputs": [],
   "source": [
    "with open('data/train_img_embeddings.pkl', 'rb') as f:\n",
    "       train_embeddings = pickle.load(f)\n",
    "print(f'The keys examples: {list(train_embeddings.keys())[:5]}')\n",
    "\n",
    "embedding_shape = list(train_embeddings.values())[0][0].shape\n",
    "print(f'Embeddings shape: {embedding_shape}')"
   ]
  },
  {
   "cell_type": "markdown",
   "metadata": {},
   "source": [
    "# Loss and metrics functions"
   ]
  },
  {
   "cell_type": "code",
   "execution_count": null,
   "metadata": {},
   "outputs": [],
   "source": [
    "def euclidean_distance(vects):\n",
    "    x, y = vects\n",
    "    sum_square = K.sum(K.square(x - y), axis=1, keepdims=True)\n",
    "    return K.sqrt(K.maximum(sum_square, K.epsilon()))\n",
    "\n",
    "def eucl_dist_output_shape(shapes):\n",
    "    shape1, shape2 = shapes\n",
    "    return (shape1[0], 1)\n",
    "\n",
    "def contrastive_loss(y_true, y_pred):\n",
    "    '''\n",
    "    Contrastive loss from Hadsell-et-al.'06\n",
    "    http://yann.lecun.com/exdb/publis/pdf/hadsell-chopra-lecun-06.pdf\n",
    "    '''\n",
    "    margin = 1.0\n",
    "    square_pred = K.square(y_pred)\n",
    "    margin_square = K.square(K.maximum(margin - y_pred, 0))\n",
    "    return K.mean(y_true * square_pred + (1 - y_true) * margin_square)\n",
    "\n",
    "def accuracy(y_true, y_pred):\n",
    "    # Compute classification accuracy with a fixed threshold on distances.\n",
    "    return K.mean(K.equal(y_true, K.cast(y_pred < 0.5, y_true.dtype)))"
   ]
  },
  {
   "cell_type": "markdown",
   "metadata": {},
   "source": [
    "# Training pairs generating\n",
    "\n",
    "Positive pairs are generated according to the input csv file, and negative pairs are generated mathcing persons from random differnet families."
   ]
  },
  {
   "cell_type": "code",
   "execution_count": null,
   "metadata": {},
   "outputs": [],
   "source": [
    "def pairs_set(input_pairs):\n",
    "    '''\n",
    "    Create positive pairs according to input .csv file.\n",
    "    Negative pairs: for each person of positive pair create negative pair\n",
    "    by picking some random person with whome they are not in the relationship.\n",
    "    \n",
    "    Arguments:\n",
    "    input_pairs -- pandas DataFrame with positive pairs paths\n",
    "    \n",
    "    Returns:\n",
    "    train_pairs -- array of pairs of embeddings\n",
    "    labels -- labels for each pair, 1 for positive(in blood relation) and 0 for negative\n",
    "    '''\n",
    "    def if_pair_exists(df, anchor, new_sample):\n",
    "        '''\n",
    "        Check if a pair exists in the dataframe.\n",
    "        '''\n",
    "        pair_exists = ((df['p1'] == anchor) & (df['p2'] == new_sample)).any() \\\n",
    "                            or ((df['p1'] == new_sample) & (df['p2'] == anchor)).any()\n",
    "        return pair_exists\n",
    "    \n",
    "    all_persons = input_pairs['p1'].unique().tolist() + \\\n",
    "                    input_pairs['p2'].unique().tolist()\n",
    "    n = len(all_persons)\n",
    "    train_pairs = []\n",
    "    labels = []\n",
    "    errors = 0\n",
    "    for idx, row in input_pairs.iterrows():\n",
    "        try:\n",
    "            # Add positive pair\n",
    "            new_pairs = make_pairs(row['p1'], row['p2'])\n",
    "            train_pairs += new_pairs\n",
    "            labels += [1.] * len(new_pairs)\n",
    "            \n",
    "            # Add negative pairs\n",
    "            # For the person p1\n",
    "            rnd_idx = np.random.randint(n)\n",
    "            negative_sample = all_persons[rnd_idx]\n",
    "            \n",
    "            while(if_pair_exists(input_pairs, row['p1'], negative_sample)):\n",
    "                rnd_idx = np.random.randint(n)\n",
    "                negative_sample = all_persons[rnd_idx]\n",
    "            \n",
    "            new_pairs = make_pairs(row['p1'], negative_sample)\n",
    "            train_pairs += new_pairs\n",
    "            labels += [0.] * len(new_pairs)\n",
    "            \n",
    "            # For the person p2\n",
    "            rnd_idx = np.random.randint(n)\n",
    "            negative_sample = all_persons[rnd_idx]\n",
    "            \n",
    "            while(if_pair_exists(input_pairs, row['p2'], negative_sample)):\n",
    "                rnd_idx = np.random.randint(n)\n",
    "                negative_sample = all_persons[rnd_idx]\n",
    "            \n",
    "            new_pairs = make_pairs(row['p2'], negative_sample)\n",
    "            train_pairs += new_pairs\n",
    "            labels += [0.] * len(new_pairs)\n",
    "            \n",
    "        except KeyError:\n",
    "            errors += 1\n",
    "    print(f'\\nThere are {errors} key errors of relationships.')\n",
    "    return np.array(train_pairs), np.array(labels)"
   ]
  },
  {
   "cell_type": "code",
   "execution_count": null,
   "metadata": {},
   "outputs": [],
   "source": [
    "def make_pairs(p1, p2):\n",
    "    '''\n",
    "    Create pair of embeddings.\n",
    "    \n",
    "    Arguments:\n",
    "    p1, p2 -- paths to persons' images directories (familyID/personID)\n",
    "    \n",
    "    Returns:\n",
    "    pairs -- array of image pairs, pairing is alligned to smaller number of images\n",
    "    '''\n",
    "    pairs = []\n",
    "    img_path1 = p1.replace('/', '\\\\')\n",
    "    img_path2 = p2.replace('/', '\\\\')\n",
    "    \n",
    "    dir1 = np.expand_dims(train_embeddings[img_path1], axis=-1)\n",
    "    dir2 = np.expand_dims(train_embeddings[img_path2], axis=-1)\n",
    "    n = min(len(dir1), len(dir2))\n",
    "    \n",
    "    for i in range(n):\n",
    "        pairs.append([dir1[i], dir2[i]])\n",
    "    return pairs"
   ]
  },
  {
   "cell_type": "code",
   "execution_count": null,
   "metadata": {},
   "outputs": [],
   "source": [
    "# Read relatives' pairs\n",
    "train_rltshps = pd.read_csv(\"data/train_relationships.csv\")\n",
    "train_rltshps.head()"
   ]
  },
  {
   "cell_type": "code",
   "execution_count": null,
   "metadata": {},
   "outputs": [],
   "source": [
    "# Shuffle rows in pandas DataFrame\n",
    "train_rltshps = train_rltshps.sample(frac=1, random_state=123).reset_index(drop=True)\n",
    "train_rltshps.info"
   ]
  },
  {
   "cell_type": "code",
   "execution_count": null,
   "metadata": {},
   "outputs": [],
   "source": [
    "# Create training and validation sets\n",
    "val_rltshps = train_rltshps.iloc[3300:]\n",
    "train_rltshps = train_rltshps.iloc[:3300]\n",
    "print(train_rltshps.shape)\n",
    "print(val_rltshps.shape)"
   ]
  },
  {
   "cell_type": "code",
   "execution_count": null,
   "metadata": {},
   "outputs": [],
   "source": [
    "train_pairs, train_labels = pairs_set(train_rltshps)\n",
    "val_pairs, val_labels = pairs_set(val_rltshps)"
   ]
  },
  {
   "cell_type": "code",
   "execution_count": null,
   "metadata": {},
   "outputs": [],
   "source": [
    "print(train_pairs.shape)\n",
    "print(val_pairs.shape)"
   ]
  },
  {
   "cell_type": "markdown",
   "metadata": {},
   "source": [
    "# Siamise network"
   ]
  },
  {
   "cell_type": "code",
   "execution_count": null,
   "metadata": {},
   "outputs": [],
   "source": [
    "def conv1D_model(input_shape, l2_value, dropout):\n",
    "    '''\n",
    "    Create deep Keras model.\n",
    "    \n",
    "    Arguments:\n",
    "    input_shape -- shape of the input layer\n",
    "    \n",
    "    Returns:\n",
    "    Model -- Keras model\n",
    "    '''\n",
    "    input = Input(shape=input_shape)\n",
    "    x = Conv1D(input.shape[1] // 64, 7, kernel_regularizer=l2(l2_value), activation='relu')(input)\n",
    "    x = Dropout(dropout)(x)\n",
    "    x = Conv1D(input.shape[1] // 64, 11, kernel_regularizer=l2(l2_value), activation='relu')(x)\n",
    "    x = Dropout(dropout)(x)\n",
    "    x = Conv1D(input.shape[1] // 32, 17, kernel_regularizer=l2(l2_value), activation='relu')(x)\n",
    "    x = Dropout(dropout)(x)\n",
    "    x = Conv1D(input.shape[1] // 32, 17, kernel_regularizer=l2(l2_value), activation='relu')(x)\n",
    "    x = Dropout(dropout)(x)\n",
    "    x = Conv1D(input.shape[1] // 16, 19, kernel_regularizer=l2(l2_value), activation='relu')(x)\n",
    "    x = Dropout(dropout)(x)\n",
    "    x = Conv1D(input.shape[1] // 16, 19, kernel_regularizer=l2(l2_value), activation='relu')(x)\n",
    "    x = Dropout(dropout)(x)\n",
    "    x = Conv1D(input.shape[1] // 8, 19, kernel_regularizer=l2(l2_value), activation='relu')(x)\n",
    "    x = Dropout(dropout)(x)\n",
    "    \n",
    "    x = Flatten()(x)\n",
    "    \n",
    "    x = Dense(input.shape[1] // 16, kernel_regularizer=l2(l2_value), activation='relu')(x)\n",
    "    x = Dropout(dropout)(x)\n",
    "    x = Dense(input.shape[1] // 32, kernel_regularizer=l2(l2_value), activation='relu')(x)\n",
    "    x = Dropout(dropout)(x)\n",
    "    x = Dense(input.shape[1] // 32, kernel_regularizer=l2(l2_value), activation='relu')(x)\n",
    "    return Model(input, x)\n",
    "\n",
    "def attention_model(input_shape, train_mode=True):\n",
    "    '''\n",
    "    Inspired by code example:\n",
    "    https://www.tensorflow.org/api_docs/python/tf/keras/layers/Attention\n",
    "    '''\n",
    "    input = Input(shape=input_shape, dtype='int32')\n",
    "    query_input = value_input = K.squeeze(input, -1)\n",
    "    \n",
    "    # Embedding lookup.\n",
    "    token_embedding = tf.keras.layers.Embedding(input_dim=input_shape[1], output_dim=64)\n",
    "    # Query embeddings of shape [batch_size, Tq, dimension].\n",
    "    query_embeddings = token_embedding(query_input)\n",
    "    # Value embeddings of shape [batch_size, Tv, dimension].\n",
    "    value_embeddings = token_embedding(value_input)\n",
    "\n",
    "    query_seq_encoding = Conv1D(input.shape[1] // 4, 5, activation='relu', padding='same')(\n",
    "        query_embeddings)\n",
    "    value_seq_encoding = Conv1D(input.shape[1] // 4, 5, activation='relu', padding='same')(\n",
    "        value_embeddings)\n",
    "    \n",
    "    query_value_attention_seq = tf.keras.layers.Attention()(\n",
    "        [query_seq_encoding, value_seq_encoding], training=train_mode)\n",
    "    \n",
    "    # Reduce over the sequence axis to produce encodings of shape\n",
    "    # [batch_size, filters].\n",
    "    query_encoding = tf.keras.layers.GlobalAveragePooling1D()(\n",
    "        query_seq_encoding)\n",
    "    query_value_attention = tf.keras.layers.GlobalAveragePooling1D()(\n",
    "        query_value_attention_seq)\n",
    "    \n",
    "    # Concatenate query and document encodings to produce a DNN input layer.\n",
    "    attn_out_layer = tf.keras.layers.Concatenate()([query_encoding, query_value_attention])\n",
    "    return Model(input, attn_out_layer)"
   ]
  },
  {
   "cell_type": "markdown",
   "metadata": {},
   "source": [
    "# Run training"
   ]
  },
  {
   "cell_type": "code",
   "execution_count": null,
   "metadata": {},
   "outputs": [],
   "source": [
    "learning_rate = 1e-5\n",
    "l2_value = 0\n",
    "dropout = 0\n",
    "epochs = 2000\n",
    "batch_size = 8"
   ]
  },
  {
   "cell_type": "code",
   "execution_count": null,
   "metadata": {},
   "outputs": [],
   "source": [
    "# Input has 512 embeddings\n",
    "base_network = conv1D_model(train_pairs.shape[-2:], l2_value, dropout)"
   ]
  },
  {
   "cell_type": "code",
   "execution_count": null,
   "metadata": {},
   "outputs": [],
   "source": [
    "base_network.summary()"
   ]
  },
  {
   "cell_type": "code",
   "execution_count": null,
   "metadata": {},
   "outputs": [],
   "source": [
    "# Creation of Siamese network\n",
    "input1 = Input(shape=embedding_shape[0])\n",
    "input2 = Input(shape=embedding_shape[0])\n",
    "processed1 = base_network(input1)\n",
    "processed2 = base_network(input2)"
   ]
  },
  {
   "cell_type": "code",
   "execution_count": null,
   "metadata": {},
   "outputs": [],
   "source": [
    "distance = Lambda(euclidean_distance,\n",
    "                  output_shape=eucl_dist_output_shape)([processed1, processed2])\n",
    "\n",
    "model = Model([input1, input2], distance)\n",
    "optimizer = Adam(learning_rate=learning_rate)\n",
    "model.compile(loss=contrastive_loss, optimizer=optimizer)"
   ]
  },
  {
   "cell_type": "markdown",
   "metadata": {},
   "source": [
    "## Run tensorboard plugin in order to track changes of training"
   ]
  },
  {
   "cell_type": "code",
   "execution_count": null,
   "metadata": {},
   "outputs": [],
   "source": [
    "# Load the TensorBoard notebook extension\n",
    "%reload_ext tensorboard"
   ]
  },
  {
   "cell_type": "code",
   "execution_count": null,
   "metadata": {},
   "outputs": [],
   "source": [
    "%tensorboard --logdir=./logs --port=7007"
   ]
  },
  {
   "cell_type": "markdown",
   "metadata": {},
   "source": [
    "## Training Callbacks"
   ]
  },
  {
   "cell_type": "code",
   "execution_count": null,
   "metadata": {},
   "outputs": [],
   "source": [
    "class MetricCallback(keras.callbacks.Callback):\n",
    "    def __init__(self, model_name, logs_dir='./logs'):\n",
    "        super(Callback, self).__init__()\n",
    "        logdir = os.path.join(logs_dir, model_name)\n",
    "        if not os.path.exists(logdir):\n",
    "            os.makedirs(logdir)\n",
    "        self.train_writer = tf.summary.create_file_writer(logdir + '/train')\n",
    "        self.valid_writer = tf.summary.create_file_writer(logdir + '/valid')\n",
    "        self.step_number = 0\n",
    "        \n",
    "    def tb_writer(self, items_to_write, wtype):\n",
    "        writer = self.train_writer if wtype == 'train' else self.valid_writer\n",
    "        \n",
    "        with writer.as_default():\n",
    "            for name, value in items_to_write.items():\n",
    "                tf.summary.scalar(name, value, self.step_number)\n",
    "            writer.flush()\n",
    "        \n",
    "    def on_epoch_end(self, epoch, logs={}):\n",
    "        class_encoded = {\n",
    "            0: 'not_related',\n",
    "            1: 'related'\n",
    "        }\n",
    "        \n",
    "        train_pred = self.model.predict([train_pairs[:, 0], train_pairs[:, 1]])\n",
    "        train_pred = (train_pred.squeeze() < 1.0).astype(int)\n",
    "        train_true = train_labels.astype(int)\n",
    "        \n",
    "        val_pred = self.model.predict([val_pairs[:, 0], val_pairs[:, 1]])\n",
    "        val_pred = (val_pred.squeeze() < 1.0).astype(int)\n",
    "        val_true = val_labels.astype(int)\n",
    "        \n",
    "        train_accuracy = accuracy_score(train_true, train_pred)\n",
    "        valid_accuracy = accuracy_score(val_true, val_pred)\n",
    "        train_precision, train_recall, _, _ = precision_recall_fscore_support(train_true, train_pred, labels=[0, 1])\n",
    "        valid_precision, valid_recall, _, _ = precision_recall_fscore_support(val_true, val_pred, labels=[0, 1])\n",
    "        \n",
    "        train_loss = logs['loss']\n",
    "        valid_loss = logs['val_loss']\n",
    "        logs = {}\n",
    "        logs['train/loss'] = train_loss\n",
    "        logs['train/accuracy'] = train_accuracy\n",
    "        \n",
    "        for k, v in class_encoded.items():\n",
    "            logs['train/precision/' + v] = train_precision[k]\n",
    "            logs['train/recall/' + v] = train_recall[k]\n",
    "        \n",
    "        self.tb_writer(logs, wtype='train')\n",
    "        \n",
    "        logs = {}\n",
    "        logs['valid/loss'] = valid_loss\n",
    "        logs['valid/accuracy'] = valid_accuracy\n",
    "        \n",
    "        for k, v in class_encoded.items():\n",
    "            logs['valid/precision/' + v] = valid_precision[k]\n",
    "            logs['valid/recall/' + v] = valid_recall[k]\n",
    "\n",
    "        self.tb_writer(logs, wtype='valid')\n",
    "        self.step_number += 1"
   ]
  },
  {
   "cell_type": "code",
   "execution_count": null,
   "metadata": {},
   "outputs": [],
   "source": [
    "model_name = 'model_1'\n",
    "logdir = os.path.join('logs', model_name)\n",
    "ckpt_dir = os.path.join('checkpoints', model_name)\n",
    "os.makedirs(ckpt_dir)\n",
    "tensorboard_callback = keras.callbacks.TensorBoard(logdir, histogram_freq=1)\n",
    "chkpt_callback = keras.callbacks.ModelCheckpoint(\n",
    "    filepath=os.path.join(ckpt_dir, 'weights.{epoch:02d}-{val_loss:.2f}.hdf5'),\n",
    "    save_weights_only=True,\n",
    "    period=10\n",
    ")\n",
    "metric_callback = MetricCallback(model_name)"
   ]
  },
  {
   "cell_type": "code",
   "execution_count": null,
   "metadata": {
    "scrolled": true
   },
   "outputs": [],
   "source": [
    "model.fit([train_pairs[:, 0],\n",
    "           train_pairs[:, 1]],\n",
    "           train_labels,\n",
    "           batch_size=batch_size,\n",
    "           epochs=epochs,\n",
    "           validation_data=([val_pairs[:, 0], val_pairs[:, 1]], val_labels),\n",
    "           callbacks=[metric_callback, chkpt_callback]\n",
    "         )"
   ]
  }
 ],
 "metadata": {
  "kernelspec": {
   "display_name": "Python 3",
   "language": "python",
   "name": "python3"
  },
  "language_info": {
   "codemirror_mode": {
    "name": "ipython",
    "version": 3
   },
   "file_extension": ".py",
   "mimetype": "text/x-python",
   "name": "python",
   "nbconvert_exporter": "python",
   "pygments_lexer": "ipython3",
   "version": "3.6.9"
  }
 },
 "nbformat": 4,
 "nbformat_minor": 4
}
