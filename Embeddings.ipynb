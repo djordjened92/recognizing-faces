{
 "cells": [
  {
   "cell_type": "code",
   "execution_count": null,
   "metadata": {},
   "outputs": [],
   "source": [
    "import os\n",
    "import tensorflow as tf\n",
    "from tensorflow.keras.preprocessing import image\n",
    "from keras_facenet import FaceNet\n",
    "import pickle\n",
    "import numpy as np"
   ]
  },
  {
   "cell_type": "code",
   "execution_count": null,
   "metadata": {},
   "outputs": [],
   "source": [
    "gpus = tf.config.experimental.list_physical_devices('GPU')\n",
    "for gpu in gpus:\n",
    "    tf.config.experimental.set_memory_growth(gpu, True)"
   ]
  },
  {
   "cell_type": "code",
   "execution_count": null,
   "metadata": {},
   "outputs": [],
   "source": [
    "embedder = FaceNet()"
   ]
  },
  {
   "cell_type": "code",
   "execution_count": null,
   "metadata": {},
   "outputs": [],
   "source": [
    "root = \"data/train\"\n",
    "train_embeddings = {}\n",
    "\n",
    "# Iterate through all families\n",
    "for fam_dir in os.listdir(root):\n",
    "    \n",
    "    fam_path = os.path.join(root, fam_dir)\n",
    "    \n",
    "    # Iterate through one specific family\n",
    "    for mid_dir in os.listdir(fam_path):\n",
    "        person_path = os.path.join(fam_path, mid_dir)\n",
    "        key = str(os.path.join(fam_dir, mid_dir))\n",
    "        train_embeddings[key]={}\n",
    "        imgs = []\n",
    "        img_names = []\n",
    "        \n",
    "        # Iterate over all images of one person\n",
    "        for img_file in os.listdir(person_path):\n",
    "            img_path = os.path.join(person_path, img_file)\n",
    "            img = image.load_img(img_path)\n",
    "            img = np.array(img).astype('float32')\n",
    "            imgs.append(img)\n",
    "            img_names.append(img_file)\n",
    "            \n",
    "        # Add embeddings only there are images of person\n",
    "        if len(imgs) > 0:\n",
    "            embeddings = embedder.embeddings(imgs)\n",
    "            train_embeddings[key] = dict(zip(img_names, embeddings))"
   ]
  },
  {
   "cell_type": "code",
   "execution_count": null,
   "metadata": {},
   "outputs": [],
   "source": [
    "# Save embeddings for train data\n",
    "with open('data/train_img_embeddings.pkl', 'wb') as f:\n",
    "        pickle.dump(train_embeddings, f, pickle.HIGHEST_PROTOCOL)"
   ]
  }
 ],
 "metadata": {
  "kernelspec": {
   "display_name": "Python 3 (ipykernel)",
   "language": "python",
   "name": "python3"
  },
  "language_info": {
   "codemirror_mode": {
    "name": "ipython",
    "version": 3
   },
   "file_extension": ".py",
   "mimetype": "text/x-python",
   "name": "python",
   "nbconvert_exporter": "python",
   "pygments_lexer": "ipython3",
   "version": "3.8.10"
  }
 },
 "nbformat": 4,
 "nbformat_minor": 4
}
