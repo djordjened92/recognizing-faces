{
 "cells": [
  {
   "cell_type": "code",
   "execution_count": 1,
   "metadata": {
    "_cell_guid": "79c7e3d0-c299-4dcb-8224-4455121ee9b0",
    "_uuid": "d629ff2d2480ee46fbb7e2d37f6b5fab8052498a"
   },
   "outputs": [
    {
     "name": "stderr",
     "output_type": "stream",
     "text": [
      "2021-10-02 16:07:37.347289: I tensorflow/stream_executor/platform/default/dso_loader.cc:54] Successfully opened dynamic library libcudart.so.11.0\n"
     ]
    }
   ],
   "source": [
    "import os\n",
    "import math\n",
    "import json\n",
    "import pickle\n",
    "import random\n",
    "import numpy as np\n",
    "import pandas as pd\n",
    "import tensorflow as tf\n",
    "from tensorflow.data import Dataset\n",
    "from tensorflow import keras\n",
    "from keras_vggface.vggface import VGGFace\n",
    "\n",
    "from datetime import datetime\n",
    "from matplotlib import pyplot as plt\n",
    "from sklearn.metrics import precision_recall_fscore_support, accuracy_score, roc_auc_score\n",
    "from tensorflow.keras.optimizers import RMSprop, SGD, Adam\n",
    "from tensorflow.keras.applications import MobileNet, ResNet50, InceptionV3\n",
    "from tensorflow.keras.applications.mobilenet import preprocess_input as mobilenet_preprocess\n",
    "from tensorflow.keras.applications.resnet50 import preprocess_input as resnet_preprocess\n",
    "from tensorflow.keras.applications.inception_v3 import preprocess_input as inception_preprocess\n",
    "from keras_vggface.utils import preprocess_input as vggface_preprocess\n",
    "from tensorflow.keras.regularizers import l2\n",
    "from tensorflow.keras.preprocessing import image\n",
    "from tensorflow.keras import backend as K\n",
    "from tensorflow.keras.models import Model\n",
    "from tensorflow.keras.callbacks import Callback, LearningRateScheduler\n",
    "from tensorflow_addons.optimizers import CyclicalLearningRate\n",
    "from tensorflow.keras.layers import Input, Flatten, Dense, Dropout, Lambda, \\\n",
    "Conv1D, Attention, GlobalAveragePooling1D, BatchNormalization, Concatenate, \\\n",
    "Layer, Reshape\n",
    "from keras_facenet import FaceNet\n",
    "\n",
    "random.seed(123)\n",
    "tf.random.set_seed(12)\n",
    "np.random.seed(123)"
   ]
  },
  {
   "cell_type": "code",
   "execution_count": 2,
   "metadata": {},
   "outputs": [
    {
     "name": "stderr",
     "output_type": "stream",
     "text": [
      "2021-10-02 16:07:40.036697: I tensorflow/stream_executor/platform/default/dso_loader.cc:54] Successfully opened dynamic library libcuda.so.1\n",
      "2021-10-02 16:07:40.107508: I tensorflow/stream_executor/cuda/cuda_gpu_executor.cc:1050] successful NUMA node read from SysFS had negative value (-1), but there must be at least one NUMA node, so returning NUMA node zero\n",
      "2021-10-02 16:07:40.108710: I tensorflow/core/common_runtime/gpu/gpu_device.cc:1734] Found device 0 with properties: \n",
      "pciBusID: 0000:01:00.0 name: NVIDIA GeForce RTX 2070 SUPER computeCapability: 7.5\n",
      "coreClock: 1.815GHz coreCount: 40 deviceMemorySize: 7.79GiB deviceMemoryBandwidth: 417.29GiB/s\n",
      "2021-10-02 16:07:40.108794: I tensorflow/stream_executor/platform/default/dso_loader.cc:54] Successfully opened dynamic library libcudart.so.11.0\n",
      "2021-10-02 16:07:40.126466: I tensorflow/stream_executor/platform/default/dso_loader.cc:54] Successfully opened dynamic library libcublas.so.11\n",
      "2021-10-02 16:07:40.126625: I tensorflow/stream_executor/platform/default/dso_loader.cc:54] Successfully opened dynamic library libcublasLt.so.11\n",
      "2021-10-02 16:07:40.133392: I tensorflow/stream_executor/platform/default/dso_loader.cc:54] Successfully opened dynamic library libcufft.so.10\n",
      "2021-10-02 16:07:40.135155: I tensorflow/stream_executor/platform/default/dso_loader.cc:54] Successfully opened dynamic library libcurand.so.10\n",
      "2021-10-02 16:07:40.137514: I tensorflow/stream_executor/platform/default/dso_loader.cc:54] Successfully opened dynamic library libcutensor.so.1\n",
      "2021-10-02 16:07:40.138755: I tensorflow/stream_executor/platform/default/dso_loader.cc:54] Successfully opened dynamic library libcusolver.so.11\n",
      "2021-10-02 16:07:40.140296: I tensorflow/stream_executor/platform/default/dso_loader.cc:54] Successfully opened dynamic library libcusparse.so.11\n",
      "2021-10-02 16:07:40.140568: I tensorflow/stream_executor/platform/default/dso_loader.cc:54] Successfully opened dynamic library libcudnn.so.8\n",
      "2021-10-02 16:07:40.140728: I tensorflow/stream_executor/cuda/cuda_gpu_executor.cc:1050] successful NUMA node read from SysFS had negative value (-1), but there must be at least one NUMA node, so returning NUMA node zero\n",
      "2021-10-02 16:07:40.141420: I tensorflow/stream_executor/cuda/cuda_gpu_executor.cc:1050] successful NUMA node read from SysFS had negative value (-1), but there must be at least one NUMA node, so returning NUMA node zero\n",
      "2021-10-02 16:07:40.141984: I tensorflow/core/common_runtime/gpu/gpu_device.cc:1872] Adding visible gpu devices: 0\n"
     ]
    }
   ],
   "source": [
    "gpus = tf.config.experimental.list_physical_devices('GPU')\n",
    "for gpu in gpus:\n",
    "    tf.config.experimental.set_memory_growth(gpu, True)"
   ]
  },
  {
   "cell_type": "code",
   "execution_count": 3,
   "metadata": {},
   "outputs": [],
   "source": [
    "input_shape = (224, 224, 3)\n",
    "train_path = './data/train'"
   ]
  },
  {
   "cell_type": "markdown",
   "metadata": {},
   "source": [
    "# Training pairs generating\n",
    "\n",
    "Available training pairs from csv files are splitted to train - validation sets. Those pairs are positive(there is blood relation). For each set(train/valid) we additionally generate negative pairs.\n",
    "\n",
    "Positive pairs are generated according to the input csv file. For each person of positive pair we create one negative pair.\n",
    "In total we'll have twice more negative than positive pairs."
   ]
  },
  {
   "cell_type": "code",
   "execution_count": 4,
   "metadata": {},
   "outputs": [],
   "source": [
    "def make_image_pair(pair, input_shape, shuffle=True, slice_imgs=1):\n",
    "    '''\n",
    "    Create pair of embeddings.\n",
    "    \n",
    "    Arguments:\n",
    "    p1, p2 -- paths to persons' images directories (familyID/personID)\n",
    "    \n",
    "    Returns:\n",
    "    pairs -- array of image pairs, pairing is alligned to smaller number of images\n",
    "    ''' \n",
    "    p1, p2 = [os.path.join(train_path, p) for p in pair]\n",
    "    \n",
    "    p1_imgs = os.listdir(p1)\n",
    "    p2_imgs = os.listdir(p2)\n",
    "    \n",
    "    if shuffle:\n",
    "        random.shuffle(p1_imgs)\n",
    "        random.shuffle(p2_imgs)\n",
    "    \n",
    "    p1_imgs = p1_imgs[:slice_imgs]\n",
    "    p2_imgs = p2_imgs[:slice_imgs]\n",
    "    \n",
    "    for i in range(len(p1_imgs)):\n",
    "        for j in range(len(p2_imgs)):\n",
    "            img1_path = os.path.join(p1, p1_imgs[i])\n",
    "            img2_path = os.path.join(p2, p2_imgs[j])\n",
    "            img1 = image.load_img(img1_path, target_size=(input_shape[0], input_shape[1]))\n",
    "            img2 = image.load_img(img2_path, target_size=(input_shape[0], input_shape[1]))\n",
    "            img1 = np.array(img1).astype('float32')\n",
    "            img2 = np.array(img2).astype('float32')\n",
    "            \n",
    "            yield img1, img2"
   ]
  },
  {
   "cell_type": "code",
   "execution_count": 5,
   "metadata": {},
   "outputs": [],
   "source": [
    "def pairs_set(input_pairs, input_shape, shuffle=True, slice_imgs=1):\n",
    "    for pair, label in input_pairs:\n",
    "        try:\n",
    "            emb_pairs = make_image_pair(pair, input_shape, shuffle, slice_imgs)\n",
    "            for emb_pair in emb_pairs:\n",
    "                yield emb_pair, label\n",
    "        except (KeyError, FileNotFoundError):\n",
    "            continue\n",
    "\n",
    "def batched_pairs(input_pairs, batch_size, dataset_period, input_shape, preprocess, shuffle=True, slice_imgs=1):\n",
    "    imgs1 = []\n",
    "    imgs2 = []\n",
    "    labels = []\n",
    "    counter = 0\n",
    "    for example in pairs_set(input_pairs, input_shape, shuffle, slice_imgs):\n",
    "        # Get every nth sample\n",
    "        counter += 1\n",
    "        if counter % dataset_period:\n",
    "            continue\n",
    "        \n",
    "        exmpls, label = example\n",
    "        exmpl1, exmpl2 = exmpls\n",
    "        imgs1.append(exmpl1)\n",
    "        imgs2.append(exmpl2)\n",
    "        labels.append(label)\n",
    "        if len(labels) == batch_size:\n",
    "            yield {'input_1':preprocess(np.array(imgs1)), 'input_2':preprocess(np.array(imgs2))}, np.array(labels).astype(float)\n",
    "            imgs1, imgs2, labels = [], [], []"
   ]
  },
  {
   "cell_type": "code",
   "execution_count": 6,
   "metadata": {},
   "outputs": [],
   "source": [
    "with open('train_val_set.json', 'r') as f:\n",
    "    train_val_set = json.load(f)\n",
    "\n",
    "train_rlt_list, neg_train_rltshps, valid_rlt_list, neg_valid_rltshps = list(train_val_set.values())\n",
    "train_rlt_list = train_rlt_list * 4\n",
    "\n",
    "train_rlts = list(zip(train_rlt_list + neg_train_rltshps, [True]*len(train_rlt_list) + [False]*len(neg_train_rltshps)))\n",
    "val_rlts = list(zip(valid_rlt_list + neg_valid_rltshps, [True]*len(valid_rlt_list) + [False]*len(neg_valid_rltshps)))\n",
    "\n",
    "random.shuffle(train_rlts)\n",
    "random.shuffle(val_rlts)"
   ]
  },
  {
   "cell_type": "markdown",
   "metadata": {},
   "source": [
    "# Siamese network\n",
    "\n",
    "Initial experimenting is done with conv1D deep neural network, as additional option for experimenting there is simple attention module."
   ]
  },
  {
   "cell_type": "code",
   "execution_count": 7,
   "metadata": {},
   "outputs": [],
   "source": [
    "def mobilenet(input_shape, l2_value, dropout):\n",
    "    mobile = MobileNet(\n",
    "        input_shape=input_shape,\n",
    "        dropout=dropout,\n",
    "        include_top=False,\n",
    "        pooling='avg',\n",
    "        alpha=1.,\n",
    "        weights='imagenet'\n",
    "    )\n",
    "    \n",
    "    for layer in mobile.layers:\n",
    "        layer.trainable = True\n",
    "        if hasattr(layer, 'kernel_regularizer'):\n",
    "            setattr(layer, 'kernel_regularizer', keras.regularizers.l2(l2_value))\n",
    "        \n",
    "    x = Dense(512, kernel_regularizer=l2(l2_value), activation='relu')(mobile.output)\n",
    "    x = Lambda(lambda x: K.l2_normalize(x,axis=1))(x)\n",
    "    return Model(mobile.input, x)\n",
    "\n",
    "def inception(input_shape, l2_value, dropout):\n",
    "    inception = InceptionV3(\n",
    "        input_shape=input_shape,\n",
    "        include_top=False,\n",
    "        pooling='avg',\n",
    "        weights='imagenet'\n",
    "    )\n",
    "    \n",
    "    for layer in inception.layers:\n",
    "        layer.trainable = True\n",
    "        if hasattr(layer, 'kernel_regularizer'):\n",
    "            setattr(layer, 'kernel_regularizer', keras.regularizers.l2(l2_value))\n",
    "        \n",
    "    x = Dense(128, kernel_regularizer=l2(l2_value), activation='relu')(inception.output)\n",
    "    x = Lambda(lambda x: K.l2_normalize(x,axis=1))(x)\n",
    "    return Model(inception.input, x)\n",
    "\n",
    "def resnet50(input_shape, l2_value, dropout):\n",
    "    resnet = ResNet50(\n",
    "        input_shape=input_shape,\n",
    "        include_top=False,\n",
    "        pooling='avg',\n",
    "        weights='imagenet'\n",
    "    )\n",
    "    \n",
    "    for layer in resnet.layers:\n",
    "        layer.trainable = True\n",
    "        if hasattr(layer, 'kernel_regularizer'):\n",
    "            setattr(layer, 'kernel_regularizer', keras.regularizers.l2(l2_value))\n",
    "        \n",
    "    x = Dense(32, kernel_regularizer=l2(l2_value), activation='relu')(resnet.output)\n",
    "    x = Lambda(lambda x: K.l2_normalize(x,axis=1))(x)\n",
    "    return Model(resnet.input, x)\n",
    "\n",
    "def vggface_resnet50(input_shape, l2_value, dropout):\n",
    "    vggface_res = VGGFace(model='resnet50', include_top=False, input_shape=input_shape)\n",
    "    \n",
    "    for layer in vggface_res.layers:\n",
    "        layer.trainable = True\n",
    "        if hasattr(layer, 'kernel_regularizer'):\n",
    "            setattr(layer, 'kernel_regularizer', keras.regularizers.l2(l2_value))\n",
    "    \n",
    "    last_layer = vggface_res.get_layer('avg_pool').output\n",
    "    x = Reshape((-1, 1))(last_layer)\n",
    "    \n",
    "    x_1 = Conv1D(1, 128)(x)\n",
    "    x_1 = Flatten()(x_1)\n",
    "    x_1 = Dense(2048, kernel_regularizer=l2(l2_value), activation='relu')(x_1)\n",
    "    x_1 = Lambda(lambda x: K.l2_normalize(x,axis=1))(x_1)\n",
    "    \n",
    "    x_2 = Conv1D(1, 128)(x)\n",
    "    x_2 = Flatten()(x_2)\n",
    "    x_2 = Dense(2048, kernel_regularizer=l2(l2_value), activation='relu')(x_2)\n",
    "    x_2 = Lambda(lambda x: K.l2_normalize(x,axis=1))(x_2)\n",
    "    \n",
    "    return Model(vggface_res.input, [x_1, x_2])"
   ]
  },
  {
   "cell_type": "markdown",
   "metadata": {},
   "source": [
    "# Loss and metrics functions"
   ]
  },
  {
   "cell_type": "code",
   "execution_count": 186,
   "metadata": {},
   "outputs": [],
   "source": [
    "MARGIN = 0.7\n",
    "\n",
    "# Margins for positive and negative pairs in the batch\n",
    "margin_pos = 0.6 * MARGIN\n",
    "margin_neg = 1.4 * MARGIN\n",
    "\n",
    "def euclidean_distance(vectors):\n",
    "    x, y = vectors\n",
    "    sum_square = K.sum(K.square(x - y), axis=1)\n",
    "    return K.sqrt(K.maximum(sum_square, K.epsilon()))\n",
    "\n",
    "def cosine_distance(vectors):\n",
    "    x, y = vectors\n",
    "    x_norm = tf.norm(x, axis=1)\n",
    "    y_norm = tf.norm(y, axis=1)\n",
    "    x_y_dot = tf.einsum('ij,ij->i', x, y)\n",
    "    cos_sim = x_y_dot / (x_norm * y_norm + K.epsilon())\n",
    "    return 1. - cos_sim\n",
    "\n",
    "def cos_euc_distance(vectors):\n",
    "    euc = euclidean_distance(vectors)\n",
    "    cos_dist = cosine_distance(vectors)\n",
    "    return (1. - cos_dist) * euc\n",
    "\n",
    "def cross_correlation(vectors):\n",
    "    '''\n",
    "    The goal is to convolute outputs from both networks,\n",
    "    each one from the batch of the first network output\n",
    "    over appropriate one from another network output\n",
    "    '''\n",
    "    \n",
    "    # x and y have shape: [batch_size, vector_size]\n",
    "    x, y = vectors\n",
    "    # We need to add 'channels' dimension -> [batch_size, vector_size, 1]\n",
    "    x = tf.expand_dims(x, -1)\n",
    "    y = tf.expand_dims(y, -1)\n",
    "    \n",
    "    # Firstly we do convolution as the second network\n",
    "    # output vectors from the batch are all filters.\n",
    "    # Technically, we've done convolution of all y over each x.\n",
    "    # From documentation(https://www.tensorflow.org/api_docs/python/tf/nn/conv1d) desired shapes should be:\n",
    "    # x shape: batch_shape(batch_size) + [in_width(vector_size), in_channels(1)]\n",
    "    # y shape: [filter_width(vector_size), in_channels(1), out_channels(batch_size)]\n",
    "    # Output shape is [batch_size, vector_length, batch_size].\n",
    "    conv1d = tf.nn.conv1d(x, tf.transpose(y, perm=[1, 2, 0]), stride=1, padding='SAME')\n",
    "    conv1d_shape = conv1d.shape\n",
    "    \n",
    "    # We need now to apply mask to the output in order to get desired\n",
    "    # convolution results in the shape [batch_size, vector_length]\n",
    "    bool_diag = tf.linalg.diag(tf.constant([True] * batch_size))\n",
    "    mask = tf.repeat(tf.expand_dims(bool_diag, axis=1), conv1d_shape[1], axis=1)\n",
    "    out = tf.squeeze(tf.ragged.boolean_mask(conv1d, mask), axis=-1)\n",
    "    return tf.reduce_max(out, 1)\n",
    "\n",
    "def eucl_dist_output_shape(shapes):\n",
    "    shape1, shape2 = shapes\n",
    "    return (shape1[0], 1)\n",
    "\n",
    "def contrastive_loss(y_true, y_pred):\n",
    "    weight_pos = 1.6\n",
    "    weight_neg = 1.\n",
    "    \n",
    "    pred_pos = tf.boolean_mask(y_pred, y_true)\n",
    "    pred_neg = tf.boolean_mask(y_pred, 1 - y_true)\n",
    "    pred_pos_m = tf.reduce_mean(pred_pos, axis=0)\n",
    "    pred_neg_m = tf.reduce_mean(pred_neg, axis=0)\n",
    "    var_pos = 0. if tf.equal(tf.size(pred_pos), 0) else tf.reduce_mean(tf.square(pred_pos_m - pred_pos))\n",
    "    var_neg = 0. if tf.equal(tf.size(pred_neg), 0) else tf.reduce_mean(tf.square(pred_neg_m - pred_neg))\n",
    "    variance_loss = 0.5 * (var_pos + var_neg)\n",
    "    \n",
    "    square_pos = tf.square(tf.maximum(pred_pos - margin_pos, 0))\n",
    "    square_neg = tf.square(tf.maximum(margin_neg - pred_neg, 0))\n",
    "    squared_concat = tf.concat([weight_pos * square_pos, weight_neg * square_neg], axis=0)\n",
    "    return tf.reduce_mean(squared_concat) + 1.0 * variance_loss"
   ]
  },
  {
   "cell_type": "markdown",
   "metadata": {},
   "source": [
    "# Run training"
   ]
  },
  {
   "cell_type": "code",
   "execution_count": 242,
   "metadata": {},
   "outputs": [],
   "source": [
    "learning_rate = 7e-7\n",
    "l2_value = 2e-7\n",
    "dropout = 0.\n",
    "epochs = 1000\n",
    "batch_size = 24\n",
    "dataset_period = 1\n",
    "eval_dataset_period = 1\n",
    "model_type = 'vggface_resnet50'\n",
    "preprocess = vggface_preprocess\n",
    "# 'euclidean_distance', 'cosine_distance', 'cos_euc_distance'\n",
    "distance_type = 'cosine_distance'\n",
    "optimizer = 'Adam'\n",
    "\n",
    "# Learning rate scheduler\n",
    "def scheduler(epoch, lr):\n",
    "    if epoch == 10:\n",
    "        return 0.5 * lr\n",
    "    elif epoch == 180:\n",
    "        return 0.8 * lr\n",
    "    elif epoch == 250:\n",
    "        return 0.5 * lr\n",
    "    elif epoch == 300:\n",
    "        return 0.7 * lr\n",
    "    elif epoch == 400:\n",
    "        return 0.3 *lr\n",
    "    elif epoch == 700:\n",
    "        return 0.6 *lr\n",
    "    return lr\n",
    "    \n",
    "lr_callback = LearningRateScheduler(scheduler)\n",
    "\n",
    "# Create dictionary of parameters for saving configuration\n",
    "train_config = {}\n",
    "for name in [\n",
    "    'learning_rate',\n",
    "    'l2_value',\n",
    "    'dropout',\n",
    "    'epochs',\n",
    "    'batch_size',\n",
    "    'model_type',\n",
    "    'dataset_period',\n",
    "    'eval_dataset_period',\n",
    "    'distance_type',\n",
    "    'optimizer',\n",
    "    'MARGIN'\n",
    "]:\n",
    "    train_config[name] = eval(name)"
   ]
  },
  {
   "cell_type": "code",
   "execution_count": 243,
   "metadata": {},
   "outputs": [],
   "source": [
    "data_augmentation = keras.Sequential([\n",
    "    keras.layers.experimental.preprocessing.RandomFlip(\"horizontal\"),\n",
    "    keras.layers.experimental.preprocessing.RandomTranslation(height_factor=0.2, width_factor=0.2),\n",
    "    keras.layers.experimental.preprocessing.RandomContrast(factor=0.2),\n",
    "    keras.layers.experimental.preprocessing.RandomZoom(height_factor=0.2)\n",
    "])"
   ]
  },
  {
   "cell_type": "code",
   "execution_count": 244,
   "metadata": {},
   "outputs": [
    {
     "data": {
      "text/plain": [
       "31433922"
      ]
     },
     "execution_count": 244,
     "metadata": {},
     "output_type": "execute_result"
    }
   ],
   "source": [
    "base_network = eval(model_type)(input_shape, l2_value, dropout)\n",
    "# base_network.load_weights('pretrained/checkpoints/model_001_mobile_512/weights.609.hdf5')\n",
    "base_network.count_params()"
   ]
  },
  {
   "cell_type": "code",
   "execution_count": 245,
   "metadata": {},
   "outputs": [
    {
     "name": "stdout",
     "output_type": "stream",
     "text": [
      "WARNING:tensorflow:The operation `tf.image.convert_image_dtype` will be skipped since the input and output dtypes are identical.\n",
      "WARNING:tensorflow:The operation `tf.image.convert_image_dtype` will be skipped since the input and output dtypes are identical.\n",
      "WARNING:tensorflow:The operation `tf.image.convert_image_dtype` will be skipped since the input and output dtypes are identical.\n"
     ]
    }
   ],
   "source": [
    "# Creation of Siamese network\n",
    "input1 = Input(shape=input_shape, name='input_1')\n",
    "input2 = Input(shape=input_shape, name='input_2')\n",
    "\n",
    "processed1_1, processed1_2 = base_network(data_augmentation(input1))\n",
    "processed2_1, processed2_2 = base_network(data_augmentation(input2))"
   ]
  },
  {
   "cell_type": "code",
   "execution_count": 246,
   "metadata": {},
   "outputs": [],
   "source": [
    "# dist_function = eval(distance_type)\n",
    "distance_1 = Lambda(euclidean_distance,\n",
    "                  output_shape=eucl_dist_output_shape)([processed1_1, processed2_1])\n",
    "distance_2 = Lambda(cross_correlation,\n",
    "                  output_shape=eucl_dist_output_shape)([processed1_2, processed2_2])\n",
    "\n",
    "model = Model([input1, input2], [distance_1, distance_2])"
   ]
  },
  {
   "cell_type": "markdown",
   "metadata": {},
   "source": [
    "## Run tensorboard plugin in order to track changes of training"
   ]
  },
  {
   "cell_type": "code",
   "execution_count": 247,
   "metadata": {},
   "outputs": [],
   "source": [
    "# Load the TensorBoard notebook extension\n",
    "%reload_ext tensorboard"
   ]
  },
  {
   "cell_type": "code",
   "execution_count": 248,
   "metadata": {},
   "outputs": [
    {
     "data": {
      "text/plain": [
       "Reusing TensorBoard on port 7008 (pid 4051), started 0:12:41 ago. (Use '!kill 4051' to kill it.)"
      ]
     },
     "metadata": {},
     "output_type": "display_data"
    },
    {
     "data": {
      "text/html": [
       "\n",
       "      <iframe id=\"tensorboard-frame-74289ca90b42adb9\" width=\"100%\" height=\"800\" frameborder=\"0\">\n",
       "      </iframe>\n",
       "      <script>\n",
       "        (function() {\n",
       "          const frame = document.getElementById(\"tensorboard-frame-74289ca90b42adb9\");\n",
       "          const url = new URL(\"/\", window.location);\n",
       "          const port = 7008;\n",
       "          if (port) {\n",
       "            url.port = port;\n",
       "          }\n",
       "          frame.src = url;\n",
       "        })();\n",
       "      </script>\n",
       "    "
      ],
      "text/plain": [
       "<IPython.core.display.HTML object>"
      ]
     },
     "metadata": {},
     "output_type": "display_data"
    }
   ],
   "source": [
    "%tensorboard --logdir=./logs --port=7008"
   ]
  },
  {
   "cell_type": "markdown",
   "metadata": {},
   "source": [
    "## Training Callbacks"
   ]
  },
  {
   "cell_type": "code",
   "execution_count": 249,
   "metadata": {},
   "outputs": [
    {
     "name": "stdout",
     "output_type": "stream",
     "text": [
      "Train set length: 19429\n",
      "Valid set length: 8084\n"
     ]
    }
   ],
   "source": [
    "# Get training set length\n",
    "train_len = 0\n",
    "for pair, label in train_rlts:\n",
    "    try:\n",
    "        p1, p2 = [os.path.join(train_path, p) for p in pair]\n",
    "        p1_imgs = os.listdir(p1)\n",
    "        p2_imgs = os.listdir(p2)\n",
    "        train_len += 1\n",
    "    except FileNotFoundError:\n",
    "        continue\n",
    "\n",
    "train_len = train_len // dataset_period\n",
    "\n",
    "val_len = 0\n",
    "for pair, label in val_rlts:\n",
    "    try:\n",
    "        p1, p2 = [os.path.join(train_path, p) for p in pair]\n",
    "        p1_imgs = os.listdir(p1)\n",
    "        p2_imgs = os.listdir(p2)\n",
    "        val_len += 2*2\n",
    "    except FileNotFoundError:\n",
    "        continue\n",
    "\n",
    "val_len = val_len // eval_dataset_period\n",
    "\n",
    "print(f'Train set length: {train_len}')\n",
    "print(f'Valid set length: {val_len}')"
   ]
  },
  {
   "cell_type": "code",
   "execution_count": 250,
   "metadata": {},
   "outputs": [],
   "source": [
    "def val_distance_stats(predictions, labels):\n",
    "    val_pos = predictions[labels.astype(np.bool)]\n",
    "    val_neg = predictions[(1 - labels).astype(np.bool)]\n",
    "    val_pos_m, val_pos_s = np.mean(val_pos), np.std(val_pos)\n",
    "    val_neg_m, val_neg_s = np.mean(val_neg), np.std(val_neg)\n",
    "    \n",
    "    return val_pos_m, val_pos_s, val_neg_m, val_neg_s\n",
    "\n",
    "# Get upper and lower boundary for the predicted distances\n",
    "lower_lim = max(MARGIN - 2 * (MARGIN - margin_pos), 0.)\n",
    "upper_lim = min(MARGIN + 2 * (margin_neg - MARGIN), 2.)\n",
    "   \n",
    "def dist_to_prob(predictions):\n",
    "    y_prob = 1 - (np.clip(predictions, lower_lim, upper_lim) - lower_lim) / (upper_lim - lower_lim)\n",
    "    return y_prob\n",
    "  \n",
    "class MetricCallback(keras.callbacks.Callback):\n",
    "    def __init__(self, logdir):\n",
    "        super(Callback, self).__init__()\n",
    "        if not os.path.exists(logdir):\n",
    "            os.makedirs(logdir)\n",
    "        self.train_writer = tf.summary.create_file_writer(logdir + '/train')\n",
    "        self.valid_writer = tf.summary.create_file_writer(logdir + '/valid')\n",
    "        self.class_encoded = {\n",
    "            0: 'not_related',\n",
    "            1: 'related'\n",
    "        }\n",
    "        \n",
    "    def tb_writer(self, items_to_write, wtype, epoch):\n",
    "        writer = self.train_writer if wtype == 'train' else self.valid_writer\n",
    "        \n",
    "        with writer.as_default():\n",
    "            for name, value in items_to_write.items():\n",
    "                tf.summary.scalar(name, value, epoch)\n",
    "            writer.flush()\n",
    "        \n",
    "    def on_epoch_end(self, epoch, logs={}):\n",
    "        val_true = []\n",
    "        val_pred_1 = []\n",
    "        val_pred_2 = []\n",
    "        batches = batched_pairs(\n",
    "            val_rlts,\n",
    "            batch_size,\n",
    "            eval_dataset_period,\n",
    "            input_shape,\n",
    "            preprocess,\n",
    "            shuffle=False,\n",
    "            slice_imgs=2\n",
    "        )\n",
    "        \n",
    "        for batch in batches:\n",
    "            pred_1, pred_2 = self.model.predict(batch[0])\n",
    "            val_pred_1.append(pred_1)\n",
    "            val_pred_2.append(pred_2)\n",
    "            val_true.extend(list(batch[1]))\n",
    "        \n",
    "        val_true = np.array(val_true)\n",
    "        val_pred_1 = np.concatenate(val_pred_1, axis=0).squeeze()\n",
    "        val_pred_2 = np.concatenate(val_pred_2, axis=0).squeeze()\n",
    "        val_loss = contrastive_loss(K.constant(val_true), K.constant(val_pred_1)) \\\n",
    "                    + contrastive_loss(K.constant(val_true), K.constant(val_pred_2))\n",
    "        \n",
    "        val_true = val_true.astype(int)\n",
    "        val_pred = 0.5 * (val_pred_1 + val_pred_2)\n",
    "        val_pos_m, val_pos_s, val_neg_m, val_neg_s = val_distance_stats(val_pred, val_true)\n",
    "        threshold = MARGIN\n",
    "        \n",
    "        # Precision and recall\n",
    "        val_cls = (val_pred < threshold).astype(int)\n",
    "        val_precision, val_recall, _, _ = precision_recall_fscore_support(val_true, val_cls, labels=[0, 1])\n",
    "        val_accuracy = accuracy_score(val_true, val_cls)\n",
    "        \n",
    "        # Area under ROC\n",
    "        val_probs = dist_to_prob(val_pred)\n",
    "        val_roc_auc = roc_auc_score(val_true, val_probs)\n",
    "        train_loss = logs['loss']\n",
    "        tb_logs = {}\n",
    "        tb_logs['train/loss'] = train_loss\n",
    "        \n",
    "        self.tb_writer(tb_logs, wtype='train', epoch=epoch)\n",
    "        \n",
    "        tb_logs = {}\n",
    "        tb_logs['valid/loss'] = val_loss\n",
    "        logs['val_loss'] = val_loss\n",
    "        for k, v in self.class_encoded.items():\n",
    "            tb_logs['valid/precision/' + v] = val_precision[k]\n",
    "            tb_logs['valid/recall/' + v] = val_recall[k]\n",
    "            tb_logs['valid/dist_mean/' + v] = val_pos_m if k else val_neg_m\n",
    "            tb_logs['valid/dist_std/' + v] = val_pos_s if k else val_neg_s\n",
    "        \n",
    "        tb_logs['valid/accuracy'] = val_accuracy\n",
    "        logs['val_roc_auc'] = val_roc_auc\n",
    "        tb_logs['valid/roc_auc'] = val_roc_auc\n",
    "\n",
    "        self.tb_writer(tb_logs, wtype='valid', epoch=epoch)"
   ]
  },
  {
   "cell_type": "code",
   "execution_count": 251,
   "metadata": {},
   "outputs": [
    {
     "name": "stdout",
     "output_type": "stream",
     "text": [
      "Model: \"model_18\"\n",
      "__________________________________________________________________________________________________\n",
      "Layer (type)                    Output Shape         Param #     Connected to                     \n",
      "==================================================================================================\n",
      "input_1 (InputLayer)            [(None, 224, 224, 3) 0                                            \n",
      "__________________________________________________________________________________________________\n",
      "input_2 (InputLayer)            [(None, 224, 224, 3) 0                                            \n",
      "__________________________________________________________________________________________________\n",
      "sequential_11 (Sequential)      (None, 224, 224, 3)  0           input_1[0][0]                    \n",
      "                                                                 input_2[0][0]                    \n",
      "__________________________________________________________________________________________________\n",
      "model_17 (Functional)           [(None, 2048), (None 31433922    sequential_11[0][0]              \n",
      "                                                                 sequential_11[1][0]              \n",
      "__________________________________________________________________________________________________\n",
      "lambda_52 (Lambda)              (None,)              0           model_17[0][0]                   \n",
      "                                                                 model_17[1][0]                   \n",
      "__________________________________________________________________________________________________\n",
      "lambda_53 (Lambda)              (24,)                0           model_17[0][1]                   \n",
      "                                                                 model_17[1][1]                   \n",
      "==================================================================================================\n",
      "Total params: 31,433,922\n",
      "Trainable params: 31,380,802\n",
      "Non-trainable params: 53,120\n",
      "__________________________________________________________________________________________________\n"
     ]
    }
   ],
   "source": [
    "optimizer = eval(optimizer)(learning_rate=learning_rate)\n",
    "model.compile(loss=[contrastive_loss, contrastive_loss], optimizer=optimizer)\n",
    "model.summary()"
   ]
  },
  {
   "cell_type": "code",
   "execution_count": 252,
   "metadata": {},
   "outputs": [
    {
     "name": "stderr",
     "output_type": "stream",
     "text": [
      "2021-10-02 19:44:46.980404: I tensorflow/core/profiler/lib/profiler_session.cc:126] Profiler session initializing.\n",
      "2021-10-02 19:44:46.980425: I tensorflow/core/profiler/lib/profiler_session.cc:141] Profiler session started.\n",
      "2021-10-02 19:44:47.233791: I tensorflow/core/profiler/lib/profiler_session.cc:159] Profiler session tear down.\n",
      "2021-10-02 19:44:47.233938: I tensorflow/core/profiler/internal/gpu/cupti_tracer.cc:1744] CUPTI activity buffer flushed\n"
     ]
    }
   ],
   "source": [
    "model_name = 'vggface_res50_M_0.7_V_1.0_pos_1.6_conv1d_2048_2048_adam_euc_corr_011_nofreeze'\n",
    "\n",
    "#Save training configuration\n",
    "with open(f'configs/{model_name}.json', 'w') as f:\n",
    "    json.dump(train_config, f)\n",
    "\n",
    "logdir = os.path.join('logs', model_name)\n",
    "ckpt_dir = os.path.join('checkpoints', model_name)\n",
    "if not os.path.exists(ckpt_dir):\n",
    "    os.makedirs(ckpt_dir)\n",
    "\n",
    "tensorboard_callback = keras.callbacks.TensorBoard(logdir, histogram_freq=1)\n",
    "ckpt_callback = keras.callbacks.ModelCheckpoint(\n",
    "    filepath=os.path.join(ckpt_dir, 'model.hdf5'),\n",
    "    monitor='val_roc_auc',\n",
    "    save_best_only=True,\n",
    "    mode='max',\n",
    "    save_weights_only=False,\n",
    "    verbose=1,\n",
    ")\n",
    "metric_callback = MetricCallback(logdir)"
   ]
  },
  {
   "cell_type": "code",
   "execution_count": null,
   "metadata": {
    "scrolled": true
   },
   "outputs": [
    {
     "name": "stdout",
     "output_type": "stream",
     "text": [
      "Epoch 1/1000\n",
      "WARNING:tensorflow:The operation `tf.image.convert_image_dtype` will be skipped since the input and output dtypes are identical.\n",
      "WARNING:tensorflow:The operation `tf.image.convert_image_dtype` will be skipped since the input and output dtypes are identical.\n",
      "WARNING:tensorflow:The operation `tf.image.convert_image_dtype` will be skipped since the input and output dtypes are identical.\n",
      "WARNING:tensorflow:The operation `tf.image.convert_image_dtype` will be skipped since the input and output dtypes are identical.\n"
     ]
    },
    {
     "name": "stderr",
     "output_type": "stream",
     "text": [
      "2021-10-02 19:44:53.455020: W tensorflow/core/grappler/optimizers/loop_optimizer.cc:906] Skipping loop optimization for Merge node with control input: model_18/lambda_53/RaggedSqueeze/RaggedFromNestedRowSplits/RaggedFromRowSplits/RowPartitionFromRowSplits/assert_non_negative/assert_less_equal/Assert/AssertGuard/branch_executed/_18\n"
     ]
    },
    {
     "name": "stdout",
     "output_type": "stream",
     "text": [
      "  6/809 [..............................] - ETA: 3:52 - loss: 0.4939 - lambda_52_loss: 0.3815 - lambda_53_loss: 0.1116WARNING:tensorflow:Callback method `on_train_batch_end` is slow compared to the batch time (batch time: 0.1428s vs `on_train_batch_end` time: 0.1462s). Check your callbacks.\n",
      "809/809 [==============================] - 238s 286ms/step - loss: 0.4180 - lambda_52_loss: 0.3037 - lambda_53_loss: 0.1135\n"
     ]
    },
    {
     "name": "stderr",
     "output_type": "stream",
     "text": [
      "2021-10-02 19:48:46.740343: W tensorflow/core/grappler/optimizers/loop_optimizer.cc:906] Skipping loop optimization for Merge node with control input: model_18/lambda_53/RaggedSqueeze/RaggedFromNestedRowSplits/RaggedFromRowSplits/RowPartitionFromRowSplits/assert_non_negative/assert_less_equal/Assert/AssertGuard/branch_executed/_18\n",
      "/usr/local/lib/python3.8/dist-packages/sklearn/metrics/_classification.py:1248: UndefinedMetricWarning: Precision and F-score are ill-defined and being set to 0.0 in labels with no predicted samples. Use `zero_division` parameter to control this behavior.\n",
      "  _warn_prf(average, modifier, msg_start, len(result))\n",
      "/usr/local/lib/python3.8/dist-packages/tensorflow/python/keras/utils/generic_utils.py:494: CustomMaskWarning: Custom mask layers require a config and must override get_config. When loading, the custom mask layer must be passed to the custom_objects argument.\n",
      "  warnings.warn('Custom mask layers require a config and must override '\n"
     ]
    },
    {
     "name": "stdout",
     "output_type": "stream",
     "text": [
      "\n",
      "Epoch 00001: val_roc_auc improved from -inf to 0.67092, saving model to checkpoints/vggface_res50_M_0.7_V_1.0_pos_1.6_conv1d_2048_2048_adam_euc_corr_011_nofreeze/model.hdf5\n",
      "Epoch 2/1000\n",
      "809/809 [==============================] - 232s 287ms/step - loss: 0.2795 - lambda_52_loss: 0.1627 - lambda_53_loss: 0.1161\n",
      "\n",
      "Epoch 00002: val_roc_auc improved from 0.67092 to 0.67498, saving model to checkpoints/vggface_res50_M_0.7_V_1.0_pos_1.6_conv1d_2048_2048_adam_euc_corr_011_nofreeze/model.hdf5\n"
     ]
    },
    {
     "name": "stderr",
     "output_type": "stream",
     "text": [
      "/usr/local/lib/python3.8/dist-packages/tensorflow/python/keras/utils/generic_utils.py:494: CustomMaskWarning: Custom mask layers require a config and must override get_config. When loading, the custom mask layer must be passed to the custom_objects argument.\n",
      "  warnings.warn('Custom mask layers require a config and must override '\n"
     ]
    },
    {
     "name": "stdout",
     "output_type": "stream",
     "text": [
      "Epoch 3/1000\n",
      "809/809 [==============================] - 229s 284ms/step - loss: 0.2072 - lambda_52_loss: 0.0897 - lambda_53_loss: 0.1167\n",
      "\n",
      "Epoch 00003: val_roc_auc did not improve from 0.67498\n",
      "Epoch 4/1000\n",
      "809/809 [==============================] - 232s 287ms/step - loss: 0.1994 - lambda_52_loss: 0.0849 - lambda_53_loss: 0.1137\n",
      "\n",
      "Epoch 00004: val_roc_auc improved from 0.67498 to 0.68931, saving model to checkpoints/vggface_res50_M_0.7_V_1.0_pos_1.6_conv1d_2048_2048_adam_euc_corr_011_nofreeze/model.hdf5\n"
     ]
    },
    {
     "name": "stderr",
     "output_type": "stream",
     "text": [
      "/usr/local/lib/python3.8/dist-packages/tensorflow/python/keras/utils/generic_utils.py:494: CustomMaskWarning: Custom mask layers require a config and must override get_config. When loading, the custom mask layer must be passed to the custom_objects argument.\n",
      "  warnings.warn('Custom mask layers require a config and must override '\n"
     ]
    },
    {
     "name": "stdout",
     "output_type": "stream",
     "text": [
      "Epoch 5/1000\n",
      "809/809 [==============================] - 227s 281ms/step - loss: 0.1965 - lambda_52_loss: 0.0836 - lambda_53_loss: 0.1121\n",
      "\n",
      "Epoch 00005: val_roc_auc improved from 0.68931 to 0.72295, saving model to checkpoints/vggface_res50_M_0.7_V_1.0_pos_1.6_conv1d_2048_2048_adam_euc_corr_011_nofreeze/model.hdf5\n"
     ]
    },
    {
     "name": "stderr",
     "output_type": "stream",
     "text": [
      "/usr/local/lib/python3.8/dist-packages/tensorflow/python/keras/utils/generic_utils.py:494: CustomMaskWarning: Custom mask layers require a config and must override get_config. When loading, the custom mask layer must be passed to the custom_objects argument.\n",
      "  warnings.warn('Custom mask layers require a config and must override '\n"
     ]
    },
    {
     "name": "stdout",
     "output_type": "stream",
     "text": [
      "Epoch 6/1000\n",
      "809/809 [==============================] - 226s 280ms/step - loss: 0.1935 - lambda_52_loss: 0.0818 - lambda_53_loss: 0.1109\n",
      "\n",
      "Epoch 00006: val_roc_auc improved from 0.72295 to 0.74503, saving model to checkpoints/vggface_res50_M_0.7_V_1.0_pos_1.6_conv1d_2048_2048_adam_euc_corr_011_nofreeze/model.hdf5\n"
     ]
    },
    {
     "name": "stderr",
     "output_type": "stream",
     "text": [
      "/usr/local/lib/python3.8/dist-packages/tensorflow/python/keras/utils/generic_utils.py:494: CustomMaskWarning: Custom mask layers require a config and must override get_config. When loading, the custom mask layer must be passed to the custom_objects argument.\n",
      "  warnings.warn('Custom mask layers require a config and must override '\n"
     ]
    },
    {
     "name": "stdout",
     "output_type": "stream",
     "text": [
      "Epoch 7/1000\n",
      "809/809 [==============================] - 226s 279ms/step - loss: 0.1912 - lambda_52_loss: 0.0802 - lambda_53_loss: 0.1102\n",
      "\n",
      "Epoch 00007: val_roc_auc improved from 0.74503 to 0.76262, saving model to checkpoints/vggface_res50_M_0.7_V_1.0_pos_1.6_conv1d_2048_2048_adam_euc_corr_011_nofreeze/model.hdf5\n"
     ]
    },
    {
     "name": "stderr",
     "output_type": "stream",
     "text": [
      "/usr/local/lib/python3.8/dist-packages/tensorflow/python/keras/utils/generic_utils.py:494: CustomMaskWarning: Custom mask layers require a config and must override get_config. When loading, the custom mask layer must be passed to the custom_objects argument.\n",
      "  warnings.warn('Custom mask layers require a config and must override '\n"
     ]
    },
    {
     "name": "stdout",
     "output_type": "stream",
     "text": [
      "Epoch 8/1000\n",
      "809/809 [==============================] - 227s 280ms/step - loss: 0.1891 - lambda_52_loss: 0.0791 - lambda_53_loss: 0.1092\n",
      "\n",
      "Epoch 00008: val_roc_auc improved from 0.76262 to 0.77261, saving model to checkpoints/vggface_res50_M_0.7_V_1.0_pos_1.6_conv1d_2048_2048_adam_euc_corr_011_nofreeze/model.hdf5\n"
     ]
    },
    {
     "name": "stderr",
     "output_type": "stream",
     "text": [
      "/usr/local/lib/python3.8/dist-packages/tensorflow/python/keras/utils/generic_utils.py:494: CustomMaskWarning: Custom mask layers require a config and must override get_config. When loading, the custom mask layer must be passed to the custom_objects argument.\n",
      "  warnings.warn('Custom mask layers require a config and must override '\n"
     ]
    },
    {
     "name": "stdout",
     "output_type": "stream",
     "text": [
      "Epoch 9/1000\n",
      "809/809 [==============================] - 237s 293ms/step - loss: 0.1872 - lambda_52_loss: 0.0780 - lambda_53_loss: 0.1085\n",
      "\n",
      "Epoch 00009: val_roc_auc improved from 0.77261 to 0.78113, saving model to checkpoints/vggface_res50_M_0.7_V_1.0_pos_1.6_conv1d_2048_2048_adam_euc_corr_011_nofreeze/model.hdf5\n"
     ]
    },
    {
     "name": "stderr",
     "output_type": "stream",
     "text": [
      "/usr/local/lib/python3.8/dist-packages/tensorflow/python/keras/utils/generic_utils.py:494: CustomMaskWarning: Custom mask layers require a config and must override get_config. When loading, the custom mask layer must be passed to the custom_objects argument.\n",
      "  warnings.warn('Custom mask layers require a config and must override '\n"
     ]
    },
    {
     "name": "stdout",
     "output_type": "stream",
     "text": [
      "Epoch 10/1000\n",
      "809/809 [==============================] - 231s 286ms/step - loss: 0.1858 - lambda_52_loss: 0.0771 - lambda_53_loss: 0.1079\n",
      "\n",
      "Epoch 00010: val_roc_auc improved from 0.78113 to 0.79543, saving model to checkpoints/vggface_res50_M_0.7_V_1.0_pos_1.6_conv1d_2048_2048_adam_euc_corr_011_nofreeze/model.hdf5\n"
     ]
    },
    {
     "name": "stderr",
     "output_type": "stream",
     "text": [
      "/usr/local/lib/python3.8/dist-packages/tensorflow/python/keras/utils/generic_utils.py:494: CustomMaskWarning: Custom mask layers require a config and must override get_config. When loading, the custom mask layer must be passed to the custom_objects argument.\n",
      "  warnings.warn('Custom mask layers require a config and must override '\n"
     ]
    },
    {
     "name": "stdout",
     "output_type": "stream",
     "text": [
      "Epoch 11/1000\n",
      "809/809 [==============================] - 229s 284ms/step - loss: 0.1840 - lambda_52_loss: 0.0758 - lambda_53_loss: 0.1074\n",
      "\n",
      "Epoch 00011: val_roc_auc improved from 0.79543 to 0.80084, saving model to checkpoints/vggface_res50_M_0.7_V_1.0_pos_1.6_conv1d_2048_2048_adam_euc_corr_011_nofreeze/model.hdf5\n"
     ]
    },
    {
     "name": "stderr",
     "output_type": "stream",
     "text": [
      "/usr/local/lib/python3.8/dist-packages/tensorflow/python/keras/utils/generic_utils.py:494: CustomMaskWarning: Custom mask layers require a config and must override get_config. When loading, the custom mask layer must be passed to the custom_objects argument.\n",
      "  warnings.warn('Custom mask layers require a config and must override '\n"
     ]
    },
    {
     "name": "stdout",
     "output_type": "stream",
     "text": [
      "Epoch 12/1000\n",
      "809/809 [==============================] - 229s 283ms/step - loss: 0.1821 - lambda_52_loss: 0.0751 - lambda_53_loss: 0.1063\n",
      "\n",
      "Epoch 00012: val_roc_auc improved from 0.80084 to 0.80257, saving model to checkpoints/vggface_res50_M_0.7_V_1.0_pos_1.6_conv1d_2048_2048_adam_euc_corr_011_nofreeze/model.hdf5\n"
     ]
    },
    {
     "name": "stderr",
     "output_type": "stream",
     "text": [
      "/usr/local/lib/python3.8/dist-packages/tensorflow/python/keras/utils/generic_utils.py:494: CustomMaskWarning: Custom mask layers require a config and must override get_config. When loading, the custom mask layer must be passed to the custom_objects argument.\n",
      "  warnings.warn('Custom mask layers require a config and must override '\n"
     ]
    },
    {
     "name": "stdout",
     "output_type": "stream",
     "text": [
      "Epoch 13/1000\n",
      "809/809 [==============================] - 232s 286ms/step - loss: 0.1805 - lambda_52_loss: 0.0738 - lambda_53_loss: 0.1059\n",
      "\n",
      "Epoch 00013: val_roc_auc improved from 0.80257 to 0.80438, saving model to checkpoints/vggface_res50_M_0.7_V_1.0_pos_1.6_conv1d_2048_2048_adam_euc_corr_011_nofreeze/model.hdf5\n"
     ]
    },
    {
     "name": "stderr",
     "output_type": "stream",
     "text": [
      "/usr/local/lib/python3.8/dist-packages/tensorflow/python/keras/utils/generic_utils.py:494: CustomMaskWarning: Custom mask layers require a config and must override get_config. When loading, the custom mask layer must be passed to the custom_objects argument.\n",
      "  warnings.warn('Custom mask layers require a config and must override '\n"
     ]
    },
    {
     "name": "stdout",
     "output_type": "stream",
     "text": [
      "Epoch 14/1000\n",
      " 70/809 [=>............................] - ETA: 3:30 - loss: 0.1801 - lambda_52_loss: 0.0734 - lambda_53_loss: 0.1059"
     ]
    }
   ],
   "source": [
    "def repeat_generator(rlts, batch_size, dataset_period, input_shape, preprocess):\n",
    "    while True:\n",
    "        for e in batched_pairs(rlts, batch_size, dataset_period, input_shape, preprocess):\n",
    "            yield e\n",
    "            \n",
    "model.fit(\n",
    "    repeat_generator(train_rlts, batch_size, dataset_period, input_shape, preprocess),\n",
    "    epochs=epochs,\n",
    "    steps_per_epoch=train_len//batch_size,\n",
    "    callbacks=[metric_callback, ckpt_callback]\n",
    ")"
   ]
  },
  {
   "cell_type": "markdown",
   "metadata": {},
   "source": [
    "# Submission"
   ]
  },
  {
   "cell_type": "code",
   "execution_count": null,
   "metadata": {},
   "outputs": [],
   "source": [
    "# Load submission pairs\n",
    "submission_path = 'data/sample_submission.csv'\n",
    "submission_df = pd.read_csv(submission_path)"
   ]
  },
  {
   "cell_type": "code",
   "execution_count": null,
   "metadata": {},
   "outputs": [],
   "source": [
    "# Load models\n",
    "ckpt_path = 'checkpoints/vggface_res50_512_cos_002/model.hdf5'\n",
    "model.load_weights(ckpt_path)\n",
    "# model = keras.models.load_model(ckpt_path, custom_objects={'contrastive_loss': contrastive_loss})"
   ]
  },
  {
   "cell_type": "code",
   "execution_count": null,
   "metadata": {},
   "outputs": [],
   "source": [
    "# Iterate over submission pairs\n",
    "submission_df = submission_df.astype({'is_related': 'float'})\n",
    "is_related = submission_df['is_related']\n",
    "predictions = []\n",
    "for idx, row in submission_df.iterrows():\n",
    "    # Load images\n",
    "    img_pair = row['img_pair']\n",
    "    img1_name, img2_name = img_pair.split('-')\n",
    "    img1_path = os.path.join('data/test', img1_name)\n",
    "    img2_path = os.path.join('data/test', img2_name)\n",
    "    img1 = image.load_img(img1_path)\n",
    "    img2 = image.load_img(img2_path)\n",
    "    img1 = preprocess(np.array(img1).astype('float32'))\n",
    "    img2 = preprocess(np.array(img2).astype('float32'))\n",
    "    img1 = np.expand_dims(img1, 0)\n",
    "    img2 = np.expand_dims(img2, 0)\n",
    "    \n",
    "    # Do an inference, and calculate probability according to distance\n",
    "    y_pred = model.predict({'input_1':img1, 'input_2':img2})[0]\n",
    "    y_pred = y_pred.squeeze()\n",
    "    y_prob = dist_to_prob(y_pred)\n",
    "    predictions.append(y_prob)\n",
    "    is_related[idx] = y_prob\n",
    "    \n",
    "    # Print step\n",
    "    if idx % 100 == 0:\n",
    "        print(f'Processed rows: {idx}')\n",
    "        \n",
    "submission_df.to_csv(f'submission.csv', index=False)"
   ]
  },
  {
   "cell_type": "code",
   "execution_count": null,
   "metadata": {},
   "outputs": [],
   "source": [
    "plt.subplots(figsize=(30, 8))\n",
    "plt.hist(predictions, 1000)\n",
    "plt.locator_params(axis='x', nbins=100)\n",
    "plt.xticks(rotation = 45)\n",
    "plt.show()"
   ]
  },
  {
   "cell_type": "code",
   "execution_count": null,
   "metadata": {},
   "outputs": [],
   "source": [
    "submission_df = pd.read_csv(submission_path)\n",
    "is_related = submission_df['is_related']\n",
    "# print(is_related.sum())\n",
    "for i, pred in enumerate(predictions):\n",
    "    if pred < 0.149:\n",
    "        is_related[i] = 1\n",
    "submission_df.to_csv(f'submission.csv', index=False)"
   ]
  }
 ],
 "metadata": {
  "kernelspec": {
   "display_name": "Python 3 (ipykernel)",
   "language": "python",
   "name": "python3"
  },
  "language_info": {
   "codemirror_mode": {
    "name": "ipython",
    "version": 3
   },
   "file_extension": ".py",
   "mimetype": "text/x-python",
   "name": "python",
   "nbconvert_exporter": "python",
   "pygments_lexer": "ipython3",
   "version": "3.8.10"
  }
 },
 "nbformat": 4,
 "nbformat_minor": 4
}
