{
 "cells": [
  {
   "cell_type": "code",
   "execution_count": null,
   "metadata": {},
   "outputs": [],
   "source": [
    "import os\n",
    "import json\n",
    "import pandas as pd\n",
    "import numpy as np\n",
    "np.random.seed(123)"
   ]
  },
  {
   "cell_type": "code",
   "execution_count": null,
   "metadata": {},
   "outputs": [],
   "source": [
    "def create_negative_paris(train_rltshps, unique_persons):\n",
    "    '''\n",
    "    Create negative pairs: for each person of positive pair create negative pair\n",
    "    by picking some random person with whome they are not in the relationship.\n",
    "    '''\n",
    "    neg_per_person = 10\n",
    "    n = len(unique_persons)\n",
    "    negative_rltshps = []\n",
    "    \n",
    "    for pair_set in train_rltshps:\n",
    "        p1, p2 = list(pair_set)\n",
    "        \n",
    "        # Add negative pairs\n",
    "        # For the person p1\n",
    "        rnd_idx = np.random.randint(n)\n",
    "        negative_sample = unique_persons[rnd_idx]\n",
    "        \n",
    "        cnt = 0\n",
    "        while cnt < neg_per_person:\n",
    "            while(negative_sample == p1 or \\\n",
    "                  (set([p1, negative_sample]) in train_rltshps) or \\\n",
    "                  (set([p1, negative_sample]) in negative_rltshps)):\n",
    "                rnd_idx = np.random.randint(n)\n",
    "                negative_sample = unique_persons[rnd_idx]\n",
    "\n",
    "            negative_rltshps.append(set([p1, negative_sample]))\n",
    "            cnt += 1\n",
    "\n",
    "        # For the person p2\n",
    "        rnd_idx = np.random.randint(n)\n",
    "        negative_sample = unique_persons[rnd_idx]\n",
    "        \n",
    "        cnt = 0\n",
    "        while cnt < neg_per_person:\n",
    "            while(negative_sample == p2 or \\\n",
    "                  (set([p2, negative_sample]) in train_rltshps) or \\\n",
    "                  (set([p2, negative_sample]) in negative_rltshps)):\n",
    "                rnd_idx = np.random.randint(n)\n",
    "                negative_sample = unique_persons[rnd_idx]\n",
    "\n",
    "            negative_rltshps.append(set([p2, negative_sample]))\n",
    "            cnt += 1\n",
    "        \n",
    "        # Print current negative samples count\n",
    "        negative_cnt = len(negative_rltshps)\n",
    "        if negative_cnt % 1000 == 0:\n",
    "            print(f'Current negative samples count: {negative_cnt}')\n",
    "            \n",
    "    return negative_rltshps"
   ]
  },
  {
   "cell_type": "code",
   "execution_count": null,
   "metadata": {},
   "outputs": [],
   "source": [
    "# Read relatives' pairs\n",
    "train_rltshps = pd.read_csv(\"data/train_relationships.csv\")\n",
    "train_rltshps.head()"
   ]
  },
  {
   "cell_type": "code",
   "execution_count": null,
   "metadata": {},
   "outputs": [],
   "source": [
    "# Shuffle rows in pandas DataFrame\n",
    "train_rltshps = train_rltshps.sample(frac=1, random_state=123).reset_index(drop=True)\n",
    "\n",
    "# Create list of sets from dataframe\n",
    "train_rlt_list = [set(e) for e in zip(train_rltshps['p1'], train_rltshps['p2'])]\n",
    "valid_rlt_list = []\n",
    "\n",
    "# Slpit pairs train-valid in order to persons be unique per dataset\n",
    "VAL_FACTOR = 0.12\n",
    "\n",
    "def get_related_pairs(person, pairs, dest):\n",
    "    for pair in pairs:\n",
    "        if person in pair:\n",
    "            p1, p2 = list(pair)\n",
    "            dest.append(pair)\n",
    "            pairs.remove(pair)\n",
    "            target_p = p1 if p1 != person else p2\n",
    "            get_related_pairs(target_p, pairs, dest)\n",
    "            \n",
    "while (len(valid_rlt_list) / len(train_rlt_list)) <= VAL_FACTOR:\n",
    "    initial_p = train_rlt_list[0]\n",
    "    train_rlt_list = train_rlt_list[1:]\n",
    "    valid_rlt_list.append(initial_p)\n",
    "    p1, p2 = list(initial_p)\n",
    "    get_related_pairs(p1, train_rlt_list, valid_rlt_list)\n",
    "    get_related_pairs(p2, train_rlt_list, valid_rlt_list)\n",
    "\n",
    "print(f'Train pairs length: {len(train_rlt_list)}')\n",
    "print(f'Valid pairs length: {len(valid_rlt_list)}')\n",
    "print(f'Valid/Train ratio: {len(valid_rlt_list)/len(train_rlt_list)}')\n",
    "\n",
    "unique_train_persons = set([person for pair in train_rlt_list for person in pair])\n",
    "unique_valid_persons = set([person for pair in valid_rlt_list for person in pair])\n",
    "print(f'Train unique persons: {len(unique_train_persons)}')\n",
    "print(f'Valid unique persons: {len(unique_valid_persons)}')\n",
    "print(f'Persons intersection: {unique_train_persons & unique_valid_persons}')"
   ]
  },
  {
   "cell_type": "code",
   "execution_count": null,
   "metadata": {},
   "outputs": [],
   "source": [
    "# Create negative relationships\n",
    "neg_train_rltshps = create_negative_paris(train_rlt_list, list(unique_train_persons))\n",
    "neg_valid_rltshps = create_negative_paris(valid_rlt_list, list(unique_valid_persons))"
   ]
  },
  {
   "cell_type": "code",
   "execution_count": null,
   "metadata": {},
   "outputs": [],
   "source": [
    "train_val_set = {\n",
    "    'train_rlt_list': [list(p) for p in train_rlt_list],\n",
    "    'neg_train_rltshps': [list(p) for p in neg_train_rltshps],\n",
    "    'valid_rlt_list': [list(p) for p in valid_rlt_list],\n",
    "    'neg_valid_rltshps': [list(p) for p in neg_valid_rltshps]\n",
    "}\n",
    "\n",
    "with open('train_val_set.json', 'w') as f:\n",
    "    json.dump(train_val_set, f)"
   ]
  }
 ],
 "metadata": {
  "kernelspec": {
   "display_name": "Python 3",
   "language": "python",
   "name": "python3"
  },
  "language_info": {
   "codemirror_mode": {
    "name": "ipython",
    "version": 3
   },
   "file_extension": ".py",
   "mimetype": "text/x-python",
   "name": "python",
   "nbconvert_exporter": "python",
   "pygments_lexer": "ipython3",
   "version": "3.6.9"
  }
 },
 "nbformat": 4,
 "nbformat_minor": 4
}
